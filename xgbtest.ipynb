{
 "cells": [
  {
   "cell_type": "code",
   "execution_count": 153,
   "metadata": {
    "collapsed": false
   },
   "outputs": [],
   "source": [
    "import numpy as np\n",
    "import pandas as pd\n",
    "from xgboost import XGBClassifier\n",
    "from xgboost import plot_importance\n",
    "from matplotlib import pyplot\n",
    "from sklearn.model_selection import train_test_split\n",
    "from sklearn.metrics import accuracy_score, confusion_matrix, classification_report"
   ]
  },
  {
   "cell_type": "code",
   "execution_count": 154,
   "metadata": {
    "collapsed": false
   },
   "outputs": [],
   "source": [
    "#create some fake data to play with\n",
    "import pandas\n",
    "from faker import Factory\n",
    "import random"
   ]
  },
  {
   "cell_type": "code",
   "execution_count": 155,
   "metadata": {
    "collapsed": false
   },
   "outputs": [],
   "source": [
    "faker = Factory.create()\n",
    "\n",
    "def fakerecord():\n",
    "    return {'store': faker.numerify('####'),  # random number eg:235533\n",
    "            'drug': faker.numerify('###########'), \n",
    "            'fraud_tag': faker.numerify('#'),# random cities\n",
    "            'shipment_qty': faker.numerify('###'),  # different products\n",
    "            'sales_qty': faker.numerify('###'),  # different categories\n",
    "            'num_shipments': faker.numerify('##'),  # random metro cities\n",
    "            'num_adjustments': faker.numerify('##')  # id's eg:1,20,28,27\n",
    "            }\n",
    "\n",
    "example_dummy_data = pandas.DataFrame([fakerecord() for _ in range(1000)])"
   ]
  },
  {
   "cell_type": "code",
   "execution_count": 156,
   "metadata": {
    "collapsed": false
   },
   "outputs": [
    {
     "data": {
      "text/html": [
       "<div>\n",
       "<table border=\"1\" class=\"dataframe\">\n",
       "  <thead>\n",
       "    <tr style=\"text-align: right;\">\n",
       "      <th></th>\n",
       "      <th>drug</th>\n",
       "      <th>fraud_tag</th>\n",
       "      <th>num_adjustments</th>\n",
       "      <th>num_shipments</th>\n",
       "      <th>sales_qty</th>\n",
       "      <th>shipment_qty</th>\n",
       "      <th>store</th>\n",
       "    </tr>\n",
       "  </thead>\n",
       "  <tbody>\n",
       "    <tr>\n",
       "      <th>0</th>\n",
       "      <td>89300291398</td>\n",
       "      <td>7</td>\n",
       "      <td>11</td>\n",
       "      <td>29</td>\n",
       "      <td>983</td>\n",
       "      <td>286</td>\n",
       "      <td>6518</td>\n",
       "    </tr>\n",
       "    <tr>\n",
       "      <th>1</th>\n",
       "      <td>13631013752</td>\n",
       "      <td>0</td>\n",
       "      <td>77</td>\n",
       "      <td>75</td>\n",
       "      <td>982</td>\n",
       "      <td>476</td>\n",
       "      <td>5616</td>\n",
       "    </tr>\n",
       "    <tr>\n",
       "      <th>2</th>\n",
       "      <td>68834540979</td>\n",
       "      <td>0</td>\n",
       "      <td>49</td>\n",
       "      <td>27</td>\n",
       "      <td>788</td>\n",
       "      <td>718</td>\n",
       "      <td>8897</td>\n",
       "    </tr>\n",
       "    <tr>\n",
       "      <th>3</th>\n",
       "      <td>82956690746</td>\n",
       "      <td>0</td>\n",
       "      <td>38</td>\n",
       "      <td>71</td>\n",
       "      <td>956</td>\n",
       "      <td>157</td>\n",
       "      <td>3607</td>\n",
       "    </tr>\n",
       "    <tr>\n",
       "      <th>4</th>\n",
       "      <td>27860177441</td>\n",
       "      <td>7</td>\n",
       "      <td>01</td>\n",
       "      <td>37</td>\n",
       "      <td>641</td>\n",
       "      <td>777</td>\n",
       "      <td>4314</td>\n",
       "    </tr>\n",
       "  </tbody>\n",
       "</table>\n",
       "</div>"
      ],
      "text/plain": [
       "          drug fraud_tag num_adjustments num_shipments sales_qty shipment_qty  \\\n",
       "0  89300291398         7              11            29       983          286   \n",
       "1  13631013752         0              77            75       982          476   \n",
       "2  68834540979         0              49            27       788          718   \n",
       "3  82956690746         0              38            71       956          157   \n",
       "4  27860177441         7              01            37       641          777   \n",
       "\n",
       "  store  \n",
       "0  6518  \n",
       "1  5616  \n",
       "2  8897  \n",
       "3  3607  \n",
       "4  4314  "
      ]
     },
     "execution_count": 156,
     "metadata": {},
     "output_type": "execute_result"
    }
   ],
   "source": [
    "#view the dummy data\n",
    "example_dummy_data.head()"
   ]
  },
  {
   "cell_type": "code",
   "execution_count": 157,
   "metadata": {
    "collapsed": false
   },
   "outputs": [],
   "source": [
    "#change the fraud tag to a binary\n",
    "example_dummy_data['fraud_tag'] = np.where(example_dummy_data['fraud_tag']=='1', '1', '0')"
   ]
  },
  {
   "cell_type": "code",
   "execution_count": 158,
   "metadata": {
    "collapsed": false
   },
   "outputs": [],
   "source": [
    "#faker creates strings so force the values to numeric\n",
    "example_dummy_data = example_dummy_data.apply(pd.to_numeric)"
   ]
  },
  {
   "cell_type": "code",
   "execution_count": 159,
   "metadata": {
    "collapsed": false
   },
   "outputs": [],
   "source": [
    "# split data into X and y\n",
    "Y = example_dummy_data[[1]]\n",
    "example_dummy_data.drop(example_dummy_data.columns[[1]],axis=1,inplace=True)\n",
    "X= example_dummy_data"
   ]
  },
  {
   "cell_type": "code",
   "execution_count": 160,
   "metadata": {
    "collapsed": false
   },
   "outputs": [
    {
     "name": "stdout",
     "output_type": "stream",
     "text": [
      "[0]\tvalidation_0-logloss:0.635981\n",
      "Will train until validation_0-logloss hasn't improved in 10 rounds.\n",
      "[1]\tvalidation_0-logloss:0.588492\n",
      "[2]\tvalidation_0-logloss:0.550578\n",
      "[3]\tvalidation_0-logloss:0.5189\n",
      "[4]\tvalidation_0-logloss:0.492344\n",
      "[5]\tvalidation_0-logloss:0.470058\n",
      "[6]\tvalidation_0-logloss:0.451537\n",
      "[7]\tvalidation_0-logloss:0.43539\n",
      "[8]\tvalidation_0-logloss:0.422307\n",
      "[9]\tvalidation_0-logloss:0.411023\n",
      "[10]\tvalidation_0-logloss:0.401193\n",
      "[11]\tvalidation_0-logloss:0.393893\n",
      "[12]\tvalidation_0-logloss:0.38716\n",
      "[13]\tvalidation_0-logloss:0.382131\n",
      "[14]\tvalidation_0-logloss:0.376593\n",
      "[15]\tvalidation_0-logloss:0.371803\n",
      "[16]\tvalidation_0-logloss:0.368609\n",
      "[17]\tvalidation_0-logloss:0.365757\n",
      "[18]\tvalidation_0-logloss:0.36416\n",
      "[19]\tvalidation_0-logloss:0.362202\n",
      "[20]\tvalidation_0-logloss:0.360336\n",
      "[21]\tvalidation_0-logloss:0.359179\n",
      "[22]\tvalidation_0-logloss:0.357943\n",
      "[23]\tvalidation_0-logloss:0.357198\n",
      "[24]\tvalidation_0-logloss:0.3563\n",
      "[25]\tvalidation_0-logloss:0.355203\n",
      "[26]\tvalidation_0-logloss:0.355183\n",
      "[27]\tvalidation_0-logloss:0.354944\n",
      "[28]\tvalidation_0-logloss:0.354319\n",
      "[29]\tvalidation_0-logloss:0.35332\n",
      "[30]\tvalidation_0-logloss:0.353501\n",
      "[31]\tvalidation_0-logloss:0.354145\n",
      "[32]\tvalidation_0-logloss:0.354687\n",
      "[33]\tvalidation_0-logloss:0.35426\n",
      "[34]\tvalidation_0-logloss:0.355196\n",
      "[35]\tvalidation_0-logloss:0.354648\n",
      "[36]\tvalidation_0-logloss:0.355107\n",
      "[37]\tvalidation_0-logloss:0.355213\n",
      "[38]\tvalidation_0-logloss:0.355489\n",
      "[39]\tvalidation_0-logloss:0.354993\n",
      "Stopping. Best iteration:\n",
      "[29]\tvalidation_0-logloss:0.35332\n",
      "\n",
      "Accuracy: 89.09%\n"
     ]
    }
   ],
   "source": [
    "# split data into train and test sets\n",
    "seed = 7\n",
    "test_size = 0.33\n",
    "X_train, X_test, y_train, y_test = train_test_split(X, Y, test_size=test_size, random_state=seed)\n",
    "# fit model on training data\n",
    "model = XGBClassifier()\n",
    "eval_set = [(X_test, y_test)]\n",
    "model.fit(X_train, y_train, early_stopping_rounds=10, eval_metric=\"logloss\", eval_set=eval_set, verbose=True)\n",
    "# make predictions for test data\n",
    "preds = model.predict(X_test)\n",
    "predictions = [round(value) for value in preds]\n",
    "# evaluate predictions\n",
    "accuracy = accuracy_score(y_test, predictions)\n",
    "print(\"Accuracy: %.2f%%\" % (accuracy * 100.0))"
   ]
  },
  {
   "cell_type": "code",
   "execution_count": 161,
   "metadata": {
    "collapsed": false
   },
   "outputs": [
    {
     "data": {
      "image/png": "[encoded data removed]",
      "text/plain": [
       "<matplotlib.figure.Figure at 0x7f70d75e3ad0>"
      ]
     },
     "metadata": {},
     "output_type": "display_data"
    }
   ],
   "source": [
    "#feature importance \n",
    "plot_importance(model)\n",
    "pyplot.show()"
   ]
  },
  {
   "cell_type": "code",
   "execution_count": 162,
   "metadata": {
    "collapsed": false
   },
   "outputs": [
    {
     "name": "stdout",
     "output_type": "stream",
     "text": [
      "          0  div_prob\n",
      "0  0.827454  0.172546\n",
      "1  0.921837  0.078163\n",
      "2  0.764109  0.235891\n",
      "3  0.928992  0.071008\n",
      "4  0.904193  0.095807\n"
     ]
    }
   ],
   "source": [
    "#probability values of being in class 0 or 1\n",
    "preds = model.predict_proba(X_test)\n",
    "check1 = pd.DataFrame(preds).rename(columns={1:'div_prob'})\n",
    "print check1.loc[(check1['div_prob']>0),:].head()"
   ]
  },
  {
   "cell_type": "code",
   "execution_count": null,
   "metadata": {
    "collapsed": true
   },
   "outputs": [],
   "source": []
  }
 ],
 "metadata": {
  "kernelspec": {
   "display_name": "Python 2",
   "language": "python",
   "name": "python2"
  },
  "language_info": {
   "codemirror_mode": {
    "name": "ipython",
    "version": 2
   },
   "file_extension": ".py",
   "mimetype": "text/x-python",
   "name": "python",
   "nbconvert_exporter": "python",
   "pygments_lexer": "ipython2",
   "version": "2.7.6"
  }
 },
 "nbformat": 4,
 "nbformat_minor": 1
}
